{
 "cells": [
  {
   "cell_type": "markdown",
   "id": "920bbc9b-a3ae-4494-b02a-14488aa0c225",
   "metadata": {},
   "source": [
    "### Name Parser: Predict First Name or Last"
   ]
  },
  {
   "cell_type": "code",
   "execution_count": 1,
   "id": "181ce87d-a548-4522-b81a-3c26020fea08",
   "metadata": {},
   "outputs": [],
   "source": [
    "import torch\n",
    "import torch.nn as nn\n",
    "import torch.optim as optim\n",
    "import torch.nn.functional as F\n",
    "\n",
    "import math\n",
    "import random\n",
    "import pandas as pd\n",
    "import numpy as np"
   ]
  },
  {
   "cell_type": "code",
   "execution_count": 6,
   "id": "3fab4894-9501-4d96-a54a-20a3e284ff49",
   "metadata": {},
   "outputs": [
    {
     "name": "stdout",
     "output_type": "stream",
     "text": [
      "Size after dropping missing first or last names: (100, 2)\n",
      "Size after dropping first names less than 2 chars: (99, 2)\n",
      "Size after dropping last names less than 2 chars: (99, 2)\n",
      "Size after dropping duplicates: (99, 2)\n"
     ]
    }
   ],
   "source": [
    "df = pd.read_csv('data/fl_reg_name_race_2022.csv.gz',\n",
    "                 usecols = ['name_first', 'name_last'], nrows = 10000)\n",
    "\n",
    "df.dropna(inplace=True)\n",
    "print(\"Size after dropping missing first or last names:\", df.shape)\n",
    "\n",
    "# Drop cases where first name is less than 2 chars\n",
    "df.drop(df[df['name_first'].str.len() < 2].index, inplace = True)\n",
    "print(\"Size after dropping first names less than 2 chars:\", df.shape)\n",
    "\n",
    "# Drop cases where first name is less than 2 chars\n",
    "df.drop(df[df['name_last'].str.len() < 2].index, inplace = True)\n",
    "print(\"Size after dropping last names less than 2 chars:\", df.shape)\n",
    "\n",
    "# Drop duplicates\n",
    "df.drop_duplicates(inplace = True)\n",
    "print(\"Size after dropping duplicates:\", df.shape)"
   ]
  },
  {
   "cell_type": "code",
   "execution_count": 8,
   "id": "227c9433-7466-4233-b89d-21a6ce82542b",
   "metadata": {},
   "outputs": [],
   "source": [
    "df_long = pd.melt(df, value_vars=['name_last', 'name_first'], \n",
    "                  var_name='name_type', \n",
    "                  value_name='name')"
   ]
  },
  {
   "cell_type": "code",
   "execution_count": 17,
   "id": "3ec527b9-2e8e-49ea-a79e-7f70a3f6bad3",
   "metadata": {},
   "outputs": [
    {
     "name": "stdout",
     "output_type": "stream",
     "text": [
      "Epoch [1/10], Loss: 3.1351\n",
      "Epoch [2/10], Loss: 0.5805\n",
      "Epoch [3/10], Loss: 1.4548\n",
      "Epoch [4/10], Loss: 0.7841\n",
      "Epoch [5/10], Loss: 1.0268\n",
      "Epoch [6/10], Loss: 0.9406\n",
      "Epoch [7/10], Loss: 0.9339\n",
      "Epoch [8/10], Loss: 0.9489\n",
      "Epoch [9/10], Loss: 0.9295\n",
      "Epoch [10/10], Loss: 0.9464\n"
     ]
    }
   ],
   "source": [
    "import torch\n",
    "import torch.nn as nn\n",
    "import torch.optim as optim\n",
    "import numpy as np\n",
    "import pandas as pd\n",
    "\n",
    "# Preprocess the data\n",
    "all_characters = list(set(''.join(df_long['name'].values)))\n",
    "num_characters = len(all_characters)\n",
    "char_to_idx = {char: i for i, char in enumerate(all_characters)}\n",
    "idx_to_char = {i: char for i, char in enumerate(all_characters)}\n",
    "\n",
    "# Convert the names to sequences of character indices\n",
    "df_long['name_indices'] = df_long['name'].apply(lambda x: [char_to_idx[char] for char in x])\n",
    "\n",
    "# Define the LSTM classifier model\n",
    "class LSTMClassifier(nn.Module):\n",
    "    def __init__(self, input_size, hidden_size, output_size):\n",
    "        super(LSTMClassifier, self).__init__()\n",
    "        self.hidden_size = hidden_size\n",
    "        self.embedding = nn.Embedding(input_size, hidden_size)\n",
    "        self.lstm = nn.LSTM(hidden_size, hidden_size)\n",
    "        self.fc = nn.Linear(hidden_size, output_size)\n",
    "\n",
    "    def forward(self, input):\n",
    "        embedded = self.embedding(input)\n",
    "        embedded = embedded.permute(1, 0, 2)  # Transpose dimensions\n",
    "        output, _ = self.lstm(embedded)\n",
    "        output = self.fc(output[-1])\n",
    "        return output\n",
    "\n",
    "# Set the hyperparameters\n",
    "# Set the hyperparameters\n",
    "input_size = hidden_size  # Update the input size to match the hidden size\n",
    "hidden_size = 128\n",
    "output_size = 2  # Binary classification: 'name_last' or 'name_first'\n",
    "num_epochs = 10\n",
    "batch_size = 16\n",
    "learning_rate = 0.01\n",
    "\n",
    "# Create the model\n",
    "model = LSTMClassifier(input_size, hidden_size, output_size)\n",
    "\n",
    "# Define the loss function and optimizer\n",
    "criterion = nn.CrossEntropyLoss()\n",
    "optimizer = optim.Adam(model.parameters(), lr=learning_rate)\n",
    "\n",
    "# Convert the name sequences to PyTorch tensors\n",
    "name_indices = list(df_long['name_indices'])\n",
    "max_seq_length = max(len(name) for name in name_indices)\n",
    "padded_name_indices = [name + [0] * (max_seq_length - len(name)) for name in name_indices]\n",
    "input_data = torch.LongTensor(padded_name_indices)\n",
    "target_data = torch.LongTensor(df_long['name_type'].map({'name_last': 0, 'name_first': 1}).values)\n",
    "\n",
    "# Training loop\n",
    "for epoch in range(num_epochs):\n",
    "    running_loss = 0.0\n",
    "    for i in range(0, len(input_data), batch_size):\n",
    "        # Get the mini-batch\n",
    "        inputs = input_data[i:i+batch_size]\n",
    "        targets = target_data[i:i+batch_size]\n",
    "\n",
    "        # Zero the gradients\n",
    "        optimizer.zero_grad()\n",
    "\n",
    "        # Forward pass\n",
    "        outputs = model(inputs)\n",
    "\n",
    "        # Calculate loss\n",
    "        loss = criterion(outputs, targets)\n",
    "\n",
    "        # Backward pass and optimization\n",
    "        loss.backward()\n",
    "        optimizer.step()\n",
    "\n",
    "        running_loss += loss.item()\n",
    "\n",
    "    # Print the average loss for this epoch\n",
    "    print(f'Epoch [{epoch+1}/{num_epochs}], Loss: {running_loss / (len(input_data) / batch_size):.4f}')"
   ]
  },
  {
   "cell_type": "code",
   "execution_count": 20,
   "id": "87636ee2-b772-4ed3-8515-dca254064c67",
   "metadata": {},
   "outputs": [],
   "source": [
    "idx_to_label = {0: 'name_last', 1: 'name_first'}"
   ]
  },
  {
   "cell_type": "code",
   "execution_count": 24,
   "id": "3b325f2f-4422-4f7c-a9ff-47f58caacb7a",
   "metadata": {},
   "outputs": [
    {
     "name": "stdout",
     "output_type": "stream",
     "text": [
      "The predicted name type for 'John' is: name_first\n"
     ]
    }
   ],
   "source": [
    "# Define the inference function\n",
    "def predict_name_type(model, name):\n",
    "    # Preprocess the input name\n",
    "    name_indices = [char_to_idx[char] for char in name]\n",
    "    padded_name_indices = name_indices + [0] * (max_seq_length - len(name_indices))\n",
    "    input_data = torch.LongTensor(padded_name_indices).unsqueeze(0)\n",
    "\n",
    "    # Set the model to evaluation mode\n",
    "    model.eval()\n",
    "\n",
    "    # Perform the forward pass\n",
    "    with torch.no_grad():\n",
    "        output = model(input_data)\n",
    "\n",
    "    # Apply softmax to convert output logits into probabilities\n",
    "    probabilities = nn.functional.softmax(output, dim=1)\n",
    "\n",
    "    # Get the predicted label index\n",
    "    predicted_label_index = torch.argmax(probabilities, dim=1).item()\n",
    "\n",
    "    # Map the predicted label index to the original name type\n",
    "    predicted_name_type = idx_to_label[predicted_label_index]\n",
    "\n",
    "    return predicted_name_type\n",
    "\n",
    "# Example usage\n",
    "name = \"John\"\n",
    "predicted_type = predict_name_type(model, name)\n",
    "print(f\"The predicted name type for '{name}' is: {predicted_type}\")"
   ]
  },
  {
   "cell_type": "code",
   "execution_count": null,
   "id": "096a1e3e-96c3-4885-a1e3-baf11c84e3c8",
   "metadata": {},
   "outputs": [],
   "source": []
  }
 ],
 "metadata": {
  "kernelspec": {
   "display_name": "Python 3 (ipykernel)",
   "language": "python",
   "name": "python3"
  },
  "language_info": {
   "codemirror_mode": {
    "name": "ipython",
    "version": 3
   },
   "file_extension": ".py",
   "mimetype": "text/x-python",
   "name": "python",
   "nbconvert_exporter": "python",
   "pygments_lexer": "ipython3",
   "version": "3.8.10"
  }
 },
 "nbformat": 4,
 "nbformat_minor": 5
}
