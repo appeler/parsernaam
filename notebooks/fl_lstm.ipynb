{
 "cells": [
  {
   "cell_type": "markdown",
   "id": "920bbc9b-a3ae-4494-b02a-14488aa0c225",
   "metadata": {},
   "source": [
    "### Name Parser: Predict First Name or Last"
   ]
  },
  {
   "cell_type": "code",
   "execution_count": 9,
   "id": "181ce87d-a548-4522-b81a-3c26020fea08",
   "metadata": {},
   "outputs": [],
   "source": [
    "import torch\n",
    "import torch.nn as nn\n",
    "import torch.optim as optim\n",
    "import numpy as np\n",
    "import pandas as pd\n",
    "from sklearn.model_selection import train_test_split"
   ]
  },
  {
   "cell_type": "code",
   "execution_count": 14,
   "id": "3fab4894-9501-4d96-a54a-20a3e284ff49",
   "metadata": {},
   "outputs": [
    {
     "name": "stdout",
     "output_type": "stream",
     "text": [
      "Size after dropping missing first or last names: (1000, 2)\n",
      "Size after dropping first names less than 2 chars: (994, 2)\n",
      "Size after dropping last names less than 2 chars: (994, 2)\n",
      "Size after dropping duplicates: (990, 2)\n"
     ]
    }
   ],
   "source": [
    "df = pd.read_csv('data/fl_reg_name_race_2022.csv.gz',\n",
    "                 usecols = ['name_first', 'name_last'], nrows = 1000)\n",
    "\n",
    "df.dropna(inplace=True)\n",
    "print(\"Size after dropping missing first or last names:\", df.shape)\n",
    "\n",
    "# Drop cases where first name is less than 2 chars\n",
    "df.drop(df[df['name_first'].str.len() < 2].index, inplace = True)\n",
    "print(\"Size after dropping first names less than 2 chars:\", df.shape)\n",
    "\n",
    "# Drop cases where first name is less than 2 chars\n",
    "df.drop(df[df['name_last'].str.len() < 2].index, inplace = True)\n",
    "print(\"Size after dropping last names less than 2 chars:\", df.shape)\n",
    "\n",
    "# Drop duplicates\n",
    "df.drop_duplicates(inplace = True)\n",
    "print(\"Size after dropping duplicates:\", df.shape)"
   ]
  },
  {
   "cell_type": "code",
   "execution_count": 15,
   "id": "227c9433-7466-4233-b89d-21a6ce82542b",
   "metadata": {},
   "outputs": [],
   "source": [
    "df_long = pd.melt(df, value_vars=['name_last', 'name_first'], \n",
    "                  var_name='name_type', \n",
    "                  value_name='name')"
   ]
  },
  {
   "cell_type": "code",
   "execution_count": 16,
   "id": "3ec527b9-2e8e-49ea-a79e-7f70a3f6bad3",
   "metadata": {},
   "outputs": [],
   "source": [
    "# Preprocess the data\n",
    "all_characters = list(set(''.join(df_long['name'].values)))\n",
    "num_characters = len(all_characters)\n",
    "char_to_idx = {char: i for i, char in enumerate(all_characters)}\n",
    "idx_to_char = {i: char for i, char in enumerate(all_characters)}\n",
    "\n",
    "# Convert the names to sequences of character indices\n",
    "df_long['name_indices'] = df_long['name'].apply(lambda x: [char_to_idx[char] for char in x])"
   ]
  },
  {
   "cell_type": "code",
   "execution_count": 17,
   "id": "e8485926-e602-430f-bd43-79058af9f6ec",
   "metadata": {},
   "outputs": [],
   "source": [
    "# Convert the name sequences to PyTorch tensors\n",
    "name_indices = list(df_long['name_indices'])\n",
    "max_seq_length = max(len(name) for name in name_indices)\n",
    "padded_name_indices = [name + [0] * (max_seq_length - len(name)) for name in name_indices]\n",
    "input_data = torch.LongTensor(padded_name_indices)\n",
    "target_data = torch.LongTensor(df_long['name_type'].map({'name_last': 0, 'name_first': 1}).values)"
   ]
  },
  {
   "cell_type": "code",
   "execution_count": 18,
   "id": "8f3cc961-b831-4828-89b3-614b7ee99ea0",
   "metadata": {},
   "outputs": [],
   "source": [
    "train_input_data, test_input_data, train_target_data, test_target_data = train_test_split(\n",
    "    input_data, target_data, test_size=0.2, random_state=42)\n",
    "train_input_data, val_input_data, train_target_data, val_target_data = train_test_split(\n",
    "    train_input_data, train_target_data, test_size=0.2, random_state=42)"
   ]
  },
  {
   "cell_type": "code",
   "execution_count": 21,
   "id": "b7e22ea7-2a76-4746-8aea-bdb005a78d1a",
   "metadata": {},
   "outputs": [],
   "source": [
    "# Define the LSTM classifier model\n",
    "class LSTMClassifier(nn.Module):\n",
    "    def __init__(self, input_size, hidden_size, output_size):\n",
    "        super(LSTMClassifier, self).__init__()\n",
    "        self.hidden_size = hidden_size\n",
    "        self.embedding = nn.Embedding(input_size, hidden_size)\n",
    "        self.lstm = nn.LSTM(hidden_size, hidden_size)\n",
    "        self.fc = nn.Linear(hidden_size, output_size)\n",
    "\n",
    "    def forward(self, input):\n",
    "        embedded = self.embedding(input)\n",
    "        embedded = embedded.permute(1, 0, 2)  # Transpose dimensions\n",
    "        output, _ = self.lstm(embedded)\n",
    "        output = self.fc(output[-1])\n",
    "        return output"
   ]
  },
  {
   "cell_type": "code",
   "execution_count": 24,
   "id": "be520c73-5e95-4322-b196-aa24f6e88574",
   "metadata": {},
   "outputs": [],
   "source": [
    "# Set the hyperparameters\n",
    "hidden_size = 128\n",
    "input_size = hidden_size\n",
    "output_size = 2  # Binary classification: 'name_last' or 'name_first'\n",
    "num_epochs = 10\n",
    "batch_size = 64\n",
    "learning_rate = 0.01\n",
    "\n",
    "# Create the model\n",
    "model = LSTMClassifier(input_size, hidden_size, output_size)\n",
    "\n",
    "# Define the loss function and optimizer\n",
    "criterion = nn.CrossEntropyLoss()\n",
    "optimizer = optim.Adam(model.parameters(), lr=learning_rate)"
   ]
  },
  {
   "cell_type": "code",
   "execution_count": 25,
   "id": "43a50bbd-104e-4157-b799-95275dbe8da8",
   "metadata": {},
   "outputs": [
    {
     "name": "stdout",
     "output_type": "stream",
     "text": [
      "Epoch [1/10], Train Loss: 0.7317\n",
      "Epoch [1/10], Validation Loss: 0.6913\n",
      "Epoch [2/10], Train Loss: 0.7009\n",
      "Epoch [2/10], Validation Loss: 0.6917\n",
      "Epoch [3/10], Train Loss: 0.7006\n",
      "Epoch [3/10], Validation Loss: 0.6920\n",
      "Epoch [4/10], Train Loss: 0.7003\n",
      "Epoch [4/10], Validation Loss: 0.6934\n",
      "Early stopping triggered after 4 epochs without improvement.\n"
     ]
    }
   ],
   "source": [
    "# Training loop with early stopping\n",
    "best_val_loss = float('inf')\n",
    "patience = 3  # Number of epochs to wait for improvement in validation loss\n",
    "num_epochs_without_improvement = 0\n",
    "for epoch in range(num_epochs):\n",
    "    running_loss = 0.0\n",
    "    for i in range(0, len(train_input_data), batch_size):\n",
    "        # Get the mini-batch\n",
    "        inputs = train_input_data[i:i+batch_size]\n",
    "        targets = train_target_data[i:i+batch_size]\n",
    "\n",
    "        # Zero the gradients\n",
    "        optimizer.zero_grad()\n",
    "\n",
    "        # Forward pass\n",
    "        outputs = model(inputs)\n",
    "\n",
    "        # Calculate loss\n",
    "        loss = criterion(outputs, targets)\n",
    "\n",
    "        # Backward pass and optimization\n",
    "        loss.backward()\n",
    "        optimizer.step()\n",
    "\n",
    "        running_loss += loss.item()\n",
    "\n",
    "    # Print the average training loss for this epoch\n",
    "    train_loss = running_loss / (len(train_input_data) / batch_size)\n",
    "    print(f'Epoch [{epoch+1}/{num_epochs}], Train Loss: {train_loss:.4f}')\n",
    "\n",
    "    # Evaluate on the validation set\n",
    "    with torch.no_grad():\n",
    "        val_outputs = model(val_input_data)\n",
    "        val_loss = criterion(val_outputs, val_target_data)\n",
    "        val_loss = val_loss.item()\n",
    "        print(f'Epoch [{epoch+1}/{num_epochs}], Validation Loss: {val_loss:.4f}')\n",
    "\n",
    "    # Check for early stopping\n",
    "    if val_loss < best_val_loss:\n",
    "        best_val_loss = val_loss\n",
    "        num_epochs_without_improvement = 0\n",
    "    else:\n",
    "        num_epochs_without_improvement += 1\n",
    "        if num_epochs_without_improvement == patience:\n",
    "            print(f'Early stopping triggered after {epoch+1} epochs without improvement.')\n",
    "            break"
   ]
  },
  {
   "cell_type": "code",
   "execution_count": 26,
   "id": "87636ee2-b772-4ed3-8515-dca254064c67",
   "metadata": {},
   "outputs": [],
   "source": [
    "idx_to_label = {0: 'name_last', 1: 'name_first'}"
   ]
  },
  {
   "cell_type": "code",
   "execution_count": 28,
   "id": "3b325f2f-4422-4f7c-a9ff-47f58caacb7a",
   "metadata": {},
   "outputs": [
    {
     "name": "stdout",
     "output_type": "stream",
     "text": [
      "The predicted name type for 'John' is: name_first\n"
     ]
    }
   ],
   "source": [
    "# Define the inference function\n",
    "def predict_name_type(model, name):\n",
    "    # Preprocess the input name\n",
    "    name_indices = [char_to_idx[char] for char in name]\n",
    "    padded_name_indices = name_indices + [0] * (max_seq_length - len(name_indices))\n",
    "    input_data = torch.LongTensor(padded_name_indices).unsqueeze(0)\n",
    "\n",
    "    # Set the model to evaluation mode\n",
    "    model.eval()\n",
    "\n",
    "    # Perform the forward pass\n",
    "    with torch.no_grad():\n",
    "        output = model(input_data)\n",
    "\n",
    "    # Apply softmax to convert output logits into probabilities\n",
    "    probabilities = nn.functional.softmax(output, dim=1)\n",
    "\n",
    "    # Get the predicted label index\n",
    "    predicted_label_index = torch.argmax(probabilities, dim=1).item()\n",
    "\n",
    "    # Map the predicted label index to the original name type\n",
    "    predicted_name_type = idx_to_label[predicted_label_index]\n",
    "\n",
    "    return predicted_name_type\n",
    "\n",
    "# Example usage\n",
    "name = \"John\"\n",
    "predicted_type = predict_name_type(model, name)\n",
    "print(f\"The predicted name type for '{name}' is: {predicted_type}\")"
   ]
  },
  {
   "cell_type": "code",
   "execution_count": 29,
   "id": "096a1e3e-96c3-4885-a1e3-baf11c84e3c8",
   "metadata": {},
   "outputs": [
    {
     "name": "stdout",
     "output_type": "stream",
     "text": [
      "Test Loss: 0.6932, Accuracy: 0.4899\n"
     ]
    }
   ],
   "source": [
    "with torch.no_grad():\n",
    "    test_outputs = model(test_input_data)\n",
    "    test_loss = criterion(test_outputs, test_target_data)\n",
    "    predicted_labels = torch.argmax(test_outputs, dim=1)\n",
    "    accuracy = (predicted_labels == test_target_data).sum().item() / len(test_target_data)\n",
    "    print(f'Test Loss: {test_loss:.4f}, Accuracy: {accuracy:.4f}')"
   ]
  },
  {
   "cell_type": "code",
   "execution_count": null,
   "id": "1d3d56b2-812a-49f5-8dbf-8cd8685196a5",
   "metadata": {},
   "outputs": [],
   "source": []
  }
 ],
 "metadata": {
  "kernelspec": {
   "display_name": "Python 3 (ipykernel)",
   "language": "python",
   "name": "python3"
  },
  "language_info": {
   "codemirror_mode": {
    "name": "ipython",
    "version": 3
   },
   "file_extension": ".py",
   "mimetype": "text/x-python",
   "name": "python",
   "nbconvert_exporter": "python",
   "pygments_lexer": "ipython3",
   "version": "3.8.10"
  }
 },
 "nbformat": 4,
 "nbformat_minor": 5
}
